{
 "cells": [
  {
   "cell_type": "code",
   "execution_count": 1,
   "id": "c496486c",
   "metadata": {},
   "outputs": [
    {
     "name": "stdout",
     "output_type": "stream",
     "text": [
      "欢迎进入成绩查询系统：（A,查询成绩、B，删除成绩、C，增加成绩、D，修改成绩。）\n",
      "请输入：b\n"
     ]
    }
   ],
   "source": [
    "\n",
    "grading_system= {'小红':67,'火鸡':88,'田田':78,'阿B':98}\n",
    "\n",
    "print('欢迎进入成绩查询系统：（A,查询成绩、B，删除成绩、C，增加成绩、D，修改成绩。）')\n",
    "command= input('请输入：').upper()"
   ]
  },
  {
   "cell_type": "code",
   "execution_count": 2,
   "id": "f4a5fe20",
   "metadata": {},
   "outputs": [
    {
     "name": "stdout",
     "output_type": "stream",
     "text": [
      "B\n"
     ]
    }
   ],
   "source": [
    "print(command)\n",
    "while not (command == 'A' or command == 'B' or command =='C' or command == 'D'):\n",
    "    print('（A,查询成绩、B，删除成绩、C，增加成绩、D，修改成绩。）')\n",
    "    command= input('请输入：').upper()"
   ]
  },
  {
   "cell_type": "code",
   "execution_count": 5,
   "id": "e605a228",
   "metadata": {},
   "outputs": [
    {
     "name": "stdout",
     "output_type": "stream",
     "text": [
      "请输入要删除的学生姓名：小红\n",
      "你确认要删除吗？（Y）y\n",
      "确认删除请输入“Y”，返回按其它键：\n",
      "学生\"小红\"已经被删除。\n",
      "{'火鸡': 88, '田田': 78, '阿B': 98}\n"
     ]
    }
   ],
   "source": [
    "if command == 'A':\n",
    "    name= input('请输入学生姓名：')\n",
    "    # print(name)\n",
    "    while not (name in grading_system):\n",
    "        print('查无此人，请重新输入：')\n",
    "        name= input('请输入学生姓名：')\n",
    "    \n",
    "    print(f'{name}的成绩是{grading_system[name]}分。')\n",
    "elif command == 'B':\n",
    "    name= input('请输入要删除的学生姓名：')\n",
    "    \n",
    "    while not (name in grading_system):\n",
    "        print('查无此人，请重新输入：')\n",
    "        name= input('请输入学生姓名：')\n",
    "    del_name= input('你确认要删除吗？（Y）').upper()\n",
    "    print('确认删除请输入“Y”，返回按其它键：')\n",
    "\n",
    "    while not (del_name == 'Y'):\n",
    "        name= input('请输入要删除的学生姓名：')\n",
    "    grading_system.pop(name)\n",
    "    print(f'学生\"{name}\"已经被删除。')\n",
    "    print(grading_system)\n",
    "elif command == 'C':\n",
    "    add_name= input('请输入要新增学生姓名：')\n",
    "    sure_name= input(f'确认新增{add_name}吗？（Y）').upper()\n",
    "    while not (sure_name == 'Y'):\n",
    "        add_name= input('请输入要新增学生姓名：')\n",
    "    add_grading= input('请输入要新增的成绩')\n",
    "    sure_grading= input(f'确认新增{add_grading}吗？（Y）')\n",
    "    while not (sure_grading == 'Y'):\n",
    "        add_name= input('请输入要新增学生姓名：')\n",
    "    grading_system[add_name]= int(add_grading)\n",
    "    print(f'新增学生“{add_name}”的成绩“{add_grading}”完成。')\n",
    "else:\n",
    "    print('')"
   ]
  },
  {
   "cell_type": "code",
   "execution_count": 4,
   "id": "ab4fb462",
   "metadata": {},
   "outputs": [
    {
     "ename": "SyntaxError",
     "evalue": "invalid syntax (846473289.py, line 1)",
     "output_type": "error",
     "traceback": [
      "\u001b[1;36m  Cell \u001b[1;32mIn[4], line 1\u001b[1;36m\u001b[0m\n\u001b[1;33m    elif command == 'B':\u001b[0m\n\u001b[1;37m    ^\u001b[0m\n\u001b[1;31mSyntaxError\u001b[0m\u001b[1;31m:\u001b[0m invalid syntax\n"
     ]
    }
   ],
   "source": []
  },
  {
   "cell_type": "code",
   "execution_count": null,
   "id": "2b4c5921",
   "metadata": {},
   "outputs": [],
   "source": []
  },
  {
   "cell_type": "code",
   "execution_count": null,
   "id": "85826256",
   "metadata": {},
   "outputs": [],
   "source": []
  }
 ],
 "metadata": {
  "kernelspec": {
   "display_name": "Python 3 (ipykernel)",
   "language": "python",
   "name": "python3"
  },
  "language_info": {
   "codemirror_mode": {
    "name": "ipython",
    "version": 3
   },
   "file_extension": ".py",
   "mimetype": "text/x-python",
   "name": "python",
   "nbconvert_exporter": "python",
   "pygments_lexer": "ipython3",
   "version": "3.10.8"
  }
 },
 "nbformat": 4,
 "nbformat_minor": 5
}
