{
 "cells": [
  {
   "cell_type": "code",
   "execution_count": 3,
   "id": "15970763",
   "metadata": {},
   "outputs": [],
   "source": [
    "import requests as rq\n",
    "from bs4 import BeautifulSoup as bs\n",
    "import os\n",
    "\n"
   ]
  },
  {
   "cell_type": "code",
   "execution_count": 4,
   "id": "2b5f8dc3",
   "metadata": {},
   "outputs": [
    {
     "name": "stdout",
     "output_type": "stream",
     "text": [
      "冷水江历史天气预报 2016年10月份已经存在\n",
      "全部下载完成\n"
     ]
    }
   ],
   "source": [
    "def get_page_data():\n",
    "    url= 'http://www.tianqihoubao.com/lishi/lengshuijiang/month/201610.html'\n",
    "    header= {\n",
    "    'User-Agent': 'Mozilla/5.0 (Windows NT 10.0; Win64; x64) AppleWebKit/537.36 (KHTML, like Gecko) Chrome/112.0.0.0 Safari/537.36'\n",
    "    }\n",
    "    # data= rq.get(url,header)\n",
    "    # # time.sleep(0.5)\n",
    "    # soup= bs(data.text,'lxml')\n",
    "    # list= soup.find(class_= 'months').find_all('a')\n",
    "    # lists= []\n",
    "    # for l in list:\n",
    "    #     lists.append('http://www.tianqihoubao.com'+ l.get('href'))\n",
    "    # for url in lists:\n",
    "    data= rq.get(url,header)\n",
    "    soup1= bs(data.text,'lxml')\n",
    "    page_name= soup1.find('h1').text.strip()\n",
    "    names= os.listdir()\n",
    "    if f'{page_name}.csv' in names:\n",
    "        print(f'{page_name}已经存在')\n",
    "    else:\n",
    "        df= pd.read_html(url,encoding='gb2312')\n",
    "        df[0].to_csv(f'{page_name}.csv',index=False)\n",
    "        print(f'{page_name}下载完成')\n",
    "get_page_data()\n",
    "print('全部下载完成')"
   ]
  },
  {
   "cell_type": "code",
   "execution_count": null,
   "id": "8545bc4e",
   "metadata": {},
   "outputs": [],
   "source": []
  }
 ],
 "metadata": {
  "kernelspec": {
   "display_name": "Python 3 (ipykernel)",
   "language": "python",
   "name": "python3"
  },
  "language_info": {
   "codemirror_mode": {
    "name": "ipython",
    "version": 3
   },
   "file_extension": ".py",
   "mimetype": "text/x-python",
   "name": "python",
   "nbconvert_exporter": "python",
   "pygments_lexer": "ipython3",
   "version": "3.11.2"
  }
 },
 "nbformat": 4,
 "nbformat_minor": 5
}
